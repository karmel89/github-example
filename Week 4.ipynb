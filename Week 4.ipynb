{
    "nbformat_minor": 1, 
    "cells": [
        {
            "source": "<b> Introduction/Business Problem </b>", 
            "cell_type": "markdown", 
            "metadata": {}
        }, 
        {
            "source": "The report will analyse toronto neighborhood in terms of population, age groups, and wealth to help investors decide the best business location and type to open in the city  ", 
            "cell_type": "markdown", 
            "metadata": {}
        }, 
        {
            "source": "<b> Data Usage </b> ", 
            "cell_type": "markdown", 
            "metadata": {}
        }, 
        {
            "source": "In addition to Foursquare API, Wellbeing Toronto-Demographics dataset from TORONTO OPEN DATA website will be used for this analysis. the dataset includes data about population, age groups, genders and wealth for each neighborhood in Toronto:\nhttps://open.toronto.ca/dataset/wellbeing-toronto-demographics/\nthe city will be clustered based on the different age groups, then it will be matched with foursquare data to find areas the lack certain sort of businesses. ", 
            "cell_type": "markdown", 
            "metadata": {}
        }, 
        {
            "execution_count": null, 
            "cell_type": "code", 
            "metadata": {}, 
            "outputs": [], 
            "source": ""
        }
    ], 
    "metadata": {
        "kernelspec": {
            "display_name": "Python 3.6", 
            "name": "python3", 
            "language": "python"
        }, 
        "language_info": {
            "mimetype": "text/x-python", 
            "nbconvert_exporter": "python", 
            "version": "3.6.8", 
            "name": "python", 
            "file_extension": ".py", 
            "pygments_lexer": "ipython3", 
            "codemirror_mode": {
                "version": 3, 
                "name": "ipython"
            }
        }
    }, 
    "nbformat": 4
}