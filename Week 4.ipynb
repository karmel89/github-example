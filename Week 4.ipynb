{
    "nbformat_minor": 1, 
    "cells": [
        {
            "source": "<b> Introduction/Business Problem </b>", 
            "cell_type": "markdown", 
            "metadata": {}
        }, 
        {
            "source": "The report will analyse toronto neighborhood in terms of population, age groups, and wealth to help investors decide the best business location and type to open in the city. \n\nInvestors interested in starting a business in Toronto can use this report to see resturants per capit ratios, students percantage, wealth rates in order to decide the location, style, and cuisine of the resturant they should open.  ", 
            "cell_type": "markdown", 
            "metadata": {}
        }, 
        {
            "source": "<b> Data Usage </b> ", 
            "cell_type": "markdown", 
            "metadata": {}
        }, 
        {
            "source": "In addition to Foursquare API, Wellbeing Toronto-Demographics dataset from TORONTO OPEN DATA website will be used for this analysis. the dataset includes data about population, age groups, genders and wealth for each neighborhood in Toronto:\nhttps://open.toronto.ca/dataset/wellbeing-toronto-demographics/\nto solve our problem, datasets based on various parameters such as population of target audience in each borough based on their:\n\u2022 Age\n\u2022 Gender \n\u2022 Marital Status\n\u2022 Employment Status\n\u2022 Income 2. \nData about the required Business floorspace and Rateable Value statistics of each borough. Finally, we will also consider the borough level tourist and domestic annual spend estimates. \nthe city will be clustered based on the different wealth groups, to visually display the wealthier and more populational neighborhoods and Foursquare data to display the current restaurants in each region. ", 
            "cell_type": "markdown", 
            "metadata": {}
        }, 
        {
            "execution_count": null, 
            "cell_type": "code", 
            "metadata": {}, 
            "outputs": [], 
            "source": ""
        }
    ], 
    "metadata": {
        "kernelspec": {
            "display_name": "Python 3.6", 
            "name": "python3", 
            "language": "python"
        }, 
        "language_info": {
            "mimetype": "text/x-python", 
            "nbconvert_exporter": "python", 
            "version": "3.6.8", 
            "name": "python", 
            "file_extension": ".py", 
            "pygments_lexer": "ipython3", 
            "codemirror_mode": {
                "version": 3, 
                "name": "ipython"
            }
        }
    }, 
    "nbformat": 4
}